{
 "cells": [
  {
   "cell_type": "markdown",
   "id": "9ac9b028",
   "metadata": {},
   "source": [
    "Разведочный анализ данных: начало"
   ]
  },
  {
   "cell_type": "code",
   "execution_count": null,
   "id": "3d9101e5",
   "metadata": {},
   "outputs": [],
   "source": [
    "# Import libraries\n",
    "import numpy as np\n",
    "import pandas as pd\n",
    "\n",
    "import matplotlib.pyplot as plt\n",
    "import seaborn as sns"
   ]
  },
  {
   "cell_type": "code",
   "execution_count": null,
   "id": "cd1cf20b",
   "metadata": {},
   "outputs": [],
   "source": [
    "DIAMONDS_DATASET = \"https://github.com/evgpat/datasets/raw/refs/heads/main/diamonds_good.csv\"\n",
    "df = pd.read_csv(DIAMONDS_DATASET)"
   ]
  },
  {
   "cell_type": "markdown",
   "id": "292c83f7",
   "metadata": {},
   "source": [
    "Описание данных:\n",
    "\n",
    "carat - число каратов алмаза\n",
    "cut - огранка алмаза\n",
    "color - цвет алмаза\n",
    "clarity - прозрачность алмаза\n",
    "depth - глубина алмаза\n",
    "table - платформа алмаза (грань, которую можно увидеть, если смотреть на камень лицевой стороной вверх)\n",
    "price - цена алмаза\n",
    "x - размер алмаза по оси x\n",
    "y - размер алмаза по оси y\n",
    "z - размер алмаза по оси z"
   ]
  },
  {
   "cell_type": "code",
   "execution_count": null,
   "id": "10dccbee",
   "metadata": {},
   "outputs": [],
   "source": [
    "df.head(10) # 10 first lines"
   ]
  },
  {
   "cell_type": "code",
   "execution_count": null,
   "id": "3d106d54",
   "metadata": {},
   "outputs": [],
   "source": [
    "df.tail() # last lines"
   ]
  },
  {
   "cell_type": "code",
   "execution_count": null,
   "id": "831a7f08",
   "metadata": {},
   "outputs": [],
   "source": [
    "df.sample(3) # 3 random lines"
   ]
  },
  {
   "cell_type": "code",
   "execution_count": null,
   "id": "395f4ba3",
   "metadata": {},
   "outputs": [],
   "source": [
    "df.shape # num of rows and columns"
   ]
  },
  {
   "cell_type": "code",
   "execution_count": null,
   "id": "e74020c7",
   "metadata": {},
   "outputs": [],
   "source": [
    "df.info() # info about data types and gaps"
   ]
  },
  {
   "cell_type": "code",
   "execution_count": null,
   "id": "032b29b9",
   "metadata": {},
   "outputs": [],
   "source": [
    "# Base number characteristics\n",
    "# df.describe().transpose()\n",
    "df.describe().T\n",
    "\n",
    "df.describe(include='object').T\n",
    "\n",
    "df.describe(include='all').T\n",
    "\n",
    "df.duplicated().sum()\n",
    "\n",
    "df[df.duplicated()]\n",
    "\n",
    "# df = df.drop_duplicates()\n",
    "df.drop_duplicates(inplace=True)\n",
    "\n",
    "df.reset_index(inplace=True, drop=True)"
   ]
  },
  {
   "cell_type": "code",
   "execution_count": null,
   "id": "0c65cd84",
   "metadata": {},
   "outputs": [],
   "source": [
    "Работа с пропущенными значениями:\n",
    "1) если меньше процента пропусков, то их можно удалить\n",
    "2) если из 5-10%, то можно заменить средним/медианой/спрогнозировать с помощью моделей\n",
    "3) если много прокусков, то можно удалить столбец или предсказать с помощью алгоритмов"
   ]
  },
  {
   "cell_type": "code",
   "execution_count": null,
   "id": "62fa6261",
   "metadata": {},
   "outputs": [],
   "source": [
    "df.isnull().mean() * 100\n",
    "\n",
    "df.hist(bins=100, figsize=(10, 10));\n",
    "\n",
    "median_carat = df['carat'].median()\n",
    "\n",
    "df['carat'].fillna(median_carat, inplace=True)\n",
    "\n",
    "median_depth = df['depth'].median()\n",
    "\n",
    "df['depth'].fillna(median_depth, inplace=True)"
   ]
  },
  {
   "cell_type": "markdown",
   "id": "c0facb7f",
   "metadata": {},
   "source": [
    "df.isnull().sum().sum()"
   ]
  },
  {
   "cell_type": "code",
   "execution_count": null,
   "id": "9360554d",
   "metadata": {},
   "outputs": [],
   "source": [
    "Однофакторный анализ"
   ]
  },
  {
   "cell_type": "code",
   "execution_count": null,
   "id": "7b6c4d2e",
   "metadata": {},
   "outputs": [],
   "source": [
    "# histogram\n",
    "plt.figure(figsize=(4,3))\n",
    "plt.hist(df.carat);\n",
    "\n",
    "plt.figure(figsize=(4,3))\n",
    "plt.hist(df.carat, bins=20);\n",
    "\n",
    "# weight of the heaviest and lightest brilliants\n",
    "df.carat.min(), df.carat.max()\n",
    "\n",
    "# num of small brilliants\n",
    "len(df[df.carat < 0.3])\n",
    "\n",
    "# ratio of large ones to all\n",
    "100 * len(df[df.carat >= 1]) / len(df)\n",
    "\n",
    "# relation between number of carats and brilliant's cost\n",
    "plt.figure(figsize=(6,4))\n",
    "plt.scatter(df.carat, df.price);\n",
    "np.correcoef(df.carat, df.price)[0][1]"
   ]
  },
  {
   "cell_type": "markdown",
   "id": "7667fb25",
   "metadata": {},
   "source": [
    "Огранка"
   ]
  },
  {
   "cell_type": "code",
   "execution_count": null,
   "id": "a56d4b04",
   "metadata": {},
   "outputs": [],
   "source": [
    "df['cut'].value_counts(normalize=True)\n",
    "\n",
    "df['cut'] = df['cut'].replace('Goood', 'Good')\n",
    "# df['cut'].replace('Goood', 'Good', inplace=True)\n",
    "\n",
    "# Impact of brilliant cut on its cost\n",
    "plt.figure(figsize=(6,4))\n",
    "sns.barplot(x='cut', y='price', data = df, palette='summer')\n",
    "plt.title('Cut - price')\n",
    "plt.show();\n",
    "\n",
    "# diff. carachteristics depending on the cut\n",
    "df.groupby('cut').agg(\n",
    "    PriceMean=('price','mean'),\n",
    "    PriceMedian=('price', 'median'),\n",
    "    CaratMean=('carat', 'mean')\n",
    "    ).sort_values(by='PriceMean', ascending=False)"
   ]
  },
  {
   "cell_type": "markdown",
   "id": "a4be3a68",
   "metadata": {},
   "source": [
    "Table and Depth"
   ]
  },
  {
   "cell_type": "code",
   "execution_count": null,
   "id": "aa190072",
   "metadata": {},
   "outputs": [],
   "source": [
    "# proportion of brilliants that have optimal table\n",
    "len(df[(df.table >= 55) & (df.table <= 60)]) / len(df)\n",
    "\n",
    "# median price of brilliants with optimal table and depth\n",
    "np.median(df[(df.table >= 55) & (df.table <= 60) & (df.depth >= 59) & (df.depth <= 62.5)]['price'])\n",
    "\n",
    "# table and depth correlation\n",
    "np.corrcoef(df.table, df.price)[0][1]"
   ]
  }
 ],
 "metadata": {
  "language_info": {
   "name": "python"
  }
 },
 "nbformat": 4,
 "nbformat_minor": 5
}
